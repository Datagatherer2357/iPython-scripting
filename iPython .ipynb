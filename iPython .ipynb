{
 "cells": [
  {
   "cell_type": "markdown",
   "metadata": {},
   "source": [
    "### Some iPython scripting"
   ]
  },
  {
   "cell_type": "code",
   "execution_count": 3,
   "metadata": {},
   "outputs": [
    {
     "data": {
      "text/plain": [
       "3"
      ]
     },
     "execution_count": 3,
     "metadata": {},
     "output_type": "execute_result"
    }
   ],
   "source": [
    "a = 1\n",
    "b = 2\n",
    "a + b"
   ]
  },
  {
   "cell_type": "code",
   "execution_count": 4,
   "metadata": {},
   "outputs": [
    {
     "data": {
      "text/plain": [
       "array([0.2       , 0.20769231, 0.21538462, 0.22307692, 0.23076923,\n",
       "       0.23846154, 0.24615385, 0.25384615, 0.26153846, 0.26923077,\n",
       "       0.27692308, 0.28461538, 0.29230769, 0.3       , 0.30769231,\n",
       "       0.31538462, 0.32307692, 0.33076923, 0.33846154, 0.34615385,\n",
       "       0.35384615, 0.36153846, 0.36923077, 0.37692308, 0.38461538,\n",
       "       0.39230769, 0.4       , 0.40769231, 0.41538462, 0.42307692,\n",
       "       0.43076923, 0.43846154, 0.44615385, 0.45384615, 0.46153846,\n",
       "       0.46923077, 0.47692308, 0.48461538, 0.49230769, 0.5       ])"
      ]
     },
     "execution_count": 4,
     "metadata": {},
     "output_type": "execute_result"
    }
   ],
   "source": [
    "import numpy as np\n",
    "np.linspace(0.2, 0.5, 40) # start point, end point, count"
   ]
  },
  {
   "cell_type": "code",
   "execution_count": 9,
   "metadata": {},
   "outputs": [
    {
     "data": {
      "text/plain": [
       "[<matplotlib.lines.Line2D at 0x22745c73be0>]"
      ]
     },
     "execution_count": 9,
     "metadata": {},
     "output_type": "execute_result"
    },
    {
     "data": {
      "image/png": "[encoded data removed]",
      "text/plain": [
       "<Figure size 432x288 with 1 Axes>"
      ]
     },
     "metadata": {},
     "output_type": "display_data"
    }
   ],
   "source": [
    "import matplotlib.pyplot as plt\n",
    "plt.plot(np.linspace(0.2, 0.5, 40)**3)"
   ]
  },
  {
   "cell_type": "markdown",
   "metadata": {},
   "source": [
    "#### Paste magic commands\n",
    "\n",
    "https://ipython.readthedocs.io/en/stable/interactive/magics.html\n",
    "\n",
    "https://jakevdp.github.io/PythonDataScienceHandbook/01.03-magic-commands.html\n",
    "\n",
    "https://www.dataquest.io/blog/jupyter-notebook-tips-tricks-shortcuts/"
   ]
  },
  {
   "cell_type": "code",
   "execution_count": 11,
   "metadata": {},
   "outputs": [
    {
     "name": "stdout",
     "output_type": "stream",
     "text": [
      "0 0\n",
      "1 1\n",
      "2 4\n",
      "3 9\n",
      "4 16\n",
      "5 25\n",
      "6 36\n",
      "7 49\n",
      "8 64\n",
      "9 81\n"
     ]
    }
   ],
   "source": [
    "for i in range (10):\n",
    "    print(i, i**2)"
   ]
  },
  {
   "cell_type": "code",
   "execution_count": 16,
   "metadata": {},
   "outputs": [
    {
     "name": "stdout",
     "output_type": "stream",
     "text": [
      "2 is a prime number\n",
      "3 is a prime number\n",
      "4 equals 2 * 2\n",
      "5 is a prime number\n",
      "6 equals 2 * 3\n",
      "7 is a prime number\n",
      "8 equals 2 * 4\n",
      "9 equals 3 * 3\n"
     ]
    }
   ],
   "source": [
    "# %paste - better than using the right click method\n",
    "\n",
    "for n in range(2, 10):\n",
    "    for x in range(2, n):\n",
    "        if n % x == 0:\n",
    "            print(n, 'equals', x, '*', n//x)\n",
    "            break\n",
    "    else:\n",
    "        # loop fell through without finding a factor\n",
    "        print(n, 'is a prime number')\n"
   ]
  },
  {
   "cell_type": "code",
   "execution_count": 21,
   "metadata": {},
   "outputs": [
    {
     "name": "stdout",
     "output_type": "stream",
     "text": [
      "32.8 ns ± 13.7 ns per loop (mean ± std. dev. of 7 runs, 10000000 loops each)\n"
     ]
    }
   ],
   "source": [
    "%timeit 1 + 2 + 3"
   ]
  },
  {
   "cell_type": "code",
   "execution_count": 22,
   "metadata": {},
   "outputs": [
    {
     "name": "stdout",
     "output_type": "stream",
     "text": [
      "54.4 µs ± 9.19 µs per loop (mean ± std. dev. of 7 runs, 10000 loops each)\n"
     ]
    }
   ],
   "source": [
    "%timeit [i**2 for i in range(100)]"
   ]
  },
  {
   "cell_type": "code",
   "execution_count": 25,
   "metadata": {},
   "outputs": [
    {
     "name": "stdout",
     "output_type": "stream",
     "text": [
      "1.74 µs ± 23.3 ns per loop (mean ± std. dev. of 7 runs, 1000000 loops each)\n"
     ]
    }
   ],
   "source": [
    "%timeit np.arange(100)**2"
   ]
  },
  {
   "cell_type": "code",
   "execution_count": 26,
   "metadata": {},
   "outputs": [
    {
     "data": {
      "text/plain": [
       "'C:\\\\Users\\\\Gareth Duffy\\\\Downloads'"
      ]
     },
     "execution_count": 26,
     "metadata": {},
     "output_type": "execute_result"
    }
   ],
   "source": [
    "%pwd #present working directory"
   ]
  },
  {
   "cell_type": "code",
   "execution_count": 33,
   "metadata": {},
   "outputs": [
    {
     "name": "stdout",
     "output_type": "stream",
     "text": [
      "[WinError 2] The system cannot find the file specified: 'D # now press TAB ! gives a list of potentials !'\n",
      "C:\\Users\\Gareth Duffy\\Downloads\n"
     ]
    }
   ],
   "source": [
    "%cd D # now press TAB ! gives a list of potentials !"
   ]
  },
  {
   "cell_type": "code",
   "execution_count": 42,
   "metadata": {},
   "outputs": [
    {
     "name": "stdout",
     "output_type": "stream",
     "text": [
      "C:\\Users\\Gareth Duffy\\desktop\n"
     ]
    }
   ],
   "source": [
    "%cd desktop"
   ]
  },
  {
   "cell_type": "code",
   "execution_count": 43,
   "metadata": {},
   "outputs": [
    {
     "name": "stdout",
     "output_type": "stream",
     "text": [
      "C:\\Users\\Gareth Duffy\n"
     ]
    }
   ],
   "source": [
    "%cd .."
   ]
  },
  {
   "cell_type": "code",
   "execution_count": 44,
   "metadata": {},
   "outputs": [
    {
     "name": "stdout",
     "output_type": "stream",
     "text": [
      " Volume in drive C is Windows\n",
      " Volume Serial Number is A673-B541\n",
      "\n",
      " Directory of C:\\Users\\Gareth Duffy\n",
      "\n",
      "14/11/2018  18:50    <DIR>          .\n",
      "14/11/2018  18:50    <DIR>          ..\n",
      "18/01/2018  19:44    <DIR>          .anaconda\n",
      "15/10/2016  18:59    <DIR>          .android\n",
      "18/01/2018  19:55    <DIR>          .astropy\n",
      "14/11/2018  18:50            10,421 .bash_history\n",
      "28/09/2018  15:28    <DIR>          .conda\n",
      "11/11/2018  10:42                43 .condarc\n",
      "18/01/2018  20:49    <DIR>          .continuum\n",
      "08/02/2018  21:08    <DIR>          .dask\n",
      "02/03/2018  12:18               186 .gitconfig\n",
      "18/01/2018  19:56    <DIR>          .glue\n",
      "18/01/2018  19:58    <DIR>          .idlerc\n",
      "11/11/2018  10:44    <DIR>          .ipynb_checkpoints\n",
      "06/02/2018  22:22    <DIR>          .ipython\n",
      "04/10/2018  17:10    <DIR>          .jupyter\n",
      "11/11/2018  11:23    <DIR>          .matplotlib\n",
      "28/07/2016  17:52    <DIR>          .oracle_jre_usage\n",
      "18/01/2018  19:56    <DIR>          .plotly\n",
      "04/11/2018  14:55    <DIR>          .pylint.d\n",
      "17/02/2018  15:10    <DIR>          .RapidMiner\n",
      "26/02/2017  12:09    <DIR>          .spss\n",
      "06/02/2018  22:22    <DIR>          .spyder-py3\n",
      "06/10/2018  11:45             1,555 .viminfo\n",
      "21/01/2018  22:19    <DIR>          .vscode\n",
      "13/05/2018  11:36            21,397 _viminfo\n",
      "17/11/2018  23:07    <DIR>          3D Objects\n",
      "08/11/2018  21:11    <DIR>          Anaconda3\n",
      "17/02/2018  13:24    <DIR>          AnacondaProjects\n",
      "26/02/2017  12:09    <DIR>          Application Data\n",
      "17/11/2018  23:07    <DIR>          Contacts\n",
      "20/09/2018  18:23             1,191 Demo.ipynb\n",
      "20/09/2018  19:52               996 Demo2.ipynb\n",
      "29/11/2018  17:54    <DIR>          Desktop\n",
      "15/06/2018  22:07    <DIR>          Documents\n",
      "29/11/2018  21:07    <DIR>          Downloads\n",
      "17/11/2018  23:07    <DIR>          Favorites\n",
      "17/11/2018  23:07    <DIR>          Links\n",
      "26/12/2017  00:25    <DIR>          Music\n",
      "10/11/2018  13:05    <DIR>          OneDrive\n",
      "26/07/2018  18:19    <DIR>          Pictures\n",
      "17/08/2016  16:41    <DIR>          Roaming\n",
      "17/11/2018  23:07    <DIR>          Saved Games\n",
      "07/10/2018  11:04    <DIR>          seaborn-data\n",
      "17/11/2018  23:07    <DIR>          Searches\n",
      "02/07/2016  18:09    <DIR>          Tracing\n",
      "11/11/2018  10:44                72 Untitled.ipynb\n",
      "26/12/2017  00:25    <DIR>          Videos\n",
      "               8 File(s)         35,861 bytes\n",
      "              40 Dir(s)  798,113,226,752 bytes free\n"
     ]
    }
   ],
   "source": [
    "%ls"
   ]
  },
  {
   "cell_type": "code",
   "execution_count": 45,
   "metadata": {},
   "outputs": [
    {
     "name": "stdout",
     "output_type": "stream",
     "text": [
      "C:\\Users\\Gareth Duffy\\Downloads\n"
     ]
    }
   ],
   "source": [
    "%cd Downloads"
   ]
  },
  {
   "cell_type": "code",
   "execution_count": 32,
   "metadata": {},
   "outputs": [
    {
     "name": "stdout",
     "output_type": "stream",
     "text": [
      "\f",
      "\n"
     ]
    }
   ],
   "source": [
    "%cls # clears window"
   ]
  },
  {
   "cell_type": "code",
   "execution_count": 51,
   "metadata": {},
   "outputs": [
    {
     "name": "stdout",
     "output_type": "stream",
     "text": [
      "Found an even number 2\n",
      "Found a number 3\n",
      "Found an even number 4\n",
      "Found a number 5\n",
      "Found an even number 6\n",
      "Found a number 7\n",
      "Found an even number 8\n",
      "Found a number 9\n"
     ]
    }
   ],
   "source": [
    "%run garethscript.py # Awesome now we'll pring \"num\" which was in the original script"
   ]
  },
  {
   "cell_type": "code",
   "execution_count": 52,
   "metadata": {},
   "outputs": [
    {
     "data": {
      "text/plain": [
       "9"
      ]
     },
     "execution_count": 52,
     "metadata": {},
     "output_type": "execute_result"
    }
   ],
   "source": [
    "num"
   ]
  },
  {
   "cell_type": "code",
   "execution_count": null,
   "metadata": {},
   "outputs": [],
   "source": [
    "%reset"
   ]
  },
  {
   "cell_type": "code",
   "execution_count": null,
   "metadata": {},
   "outputs": [],
   "source": [
    "cd"
   ]
  },
  {
   "cell_type": "code",
   "execution_count": null,
   "metadata": {},
   "outputs": [],
   "source": [
    "pwd"
   ]
  },
  {
   "cell_type": "code",
   "execution_count": null,
   "metadata": {},
   "outputs": [],
   "source": [
    "ls"
   ]
  },
  {
   "cell_type": "markdown",
   "metadata": {},
   "source": [
    "#### Shell commands"
   ]
  },
  {
   "cell_type": "code",
   "execution_count": null,
   "metadata": {},
   "outputs": [],
   "source": [
    "!git status"
   ]
  },
  {
   "cell_type": "code",
   "execution_count": null,
   "metadata": {},
   "outputs": [],
   "source": [
    "!git help"
   ]
  }
 ],
 "metadata": {
  "kernelspec": {
   "display_name": "Python 3",
   "language": "python",
   "name": "python3"
  },
  "language_info": {
   "codemirror_mode": {
    "name": "ipython",
    "version": 3
   },
   "file_extension": ".py",
   "mimetype": "text/x-python",
   "name": "python",
   "nbconvert_exporter": "python",
   "pygments_lexer": "ipython3",
   "version": "3.6.5"
  }
 },
 "nbformat": 4,
 "nbformat_minor": 2
}
